{
 "cells": [
  {
   "attachments": {},
   "cell_type": "markdown",
   "metadata": {},
   "source": [
    "# Modelo Preditivo - Business Case"
   ]
  },
  {
   "attachments": {},
   "cell_type": "markdown",
   "metadata": {},
   "source": [
    "## Importações"
   ]
  },
  {
   "cell_type": "code",
   "execution_count": 29,
   "metadata": {},
   "outputs": [],
   "source": [
    "# Importando bibliotecas\n",
    "import pandas as pd\n",
    "import numpy as np\n",
    "import matplotlib.pyplot as plt\n",
    "from scipy import stats\n",
    "from sklearn.preprocessing import StandardScaler\n",
    "from sklearn.neighbors import KNeighborsRegressor\n",
    "from sklearn.metrics import mean_squared_error, r2_score\n",
    "from sklearn.model_selection import learning_curve\n",
    "from sklearn.ensemble import RandomForestRegressor\n",
    "from sklearn.model_selection import cross_val_score\n",
    "from sklearn.linear_model import LinearRegression\n",
    "from sklearn.linear_model import Ridge, Lasso\n"
   ]
  },
  {
   "cell_type": "code",
   "execution_count": 5,
   "metadata": {},
   "outputs": [
    {
     "data": {
      "text/html": [
       "<div>\n",
       "<style scoped>\n",
       "    .dataframe tbody tr th:only-of-type {\n",
       "        vertical-align: middle;\n",
       "    }\n",
       "\n",
       "    .dataframe tbody tr th {\n",
       "        vertical-align: top;\n",
       "    }\n",
       "\n",
       "    .dataframe thead th {\n",
       "        text-align: right;\n",
       "    }\n",
       "</style>\n",
       "<table border=\"1\" class=\"dataframe\">\n",
       "  <thead>\n",
       "    <tr style=\"text-align: right;\">\n",
       "      <th></th>\n",
       "      <th>horario</th>\n",
       "      <th>dia</th>\n",
       "      <th>mes</th>\n",
       "      <th>energia</th>\n",
       "      <th>cor_atrasada</th>\n",
       "      <th>cor_principal</th>\n",
       "      <th>med_CO2</th>\n",
       "      <th>fat_pot_atrasado</th>\n",
       "      <th>fat_pot_principal</th>\n",
       "      <th>seg_no_dia</th>\n",
       "      <th>est_semanal</th>\n",
       "      <th>dia_semana</th>\n",
       "      <th>carga</th>\n",
       "    </tr>\n",
       "  </thead>\n",
       "  <tbody>\n",
       "    <tr>\n",
       "      <th>0</th>\n",
       "      <td>00:15:00</td>\n",
       "      <td>1</td>\n",
       "      <td>1</td>\n",
       "      <td>3.17</td>\n",
       "      <td>2.95</td>\n",
       "      <td>0.0</td>\n",
       "      <td>0.0</td>\n",
       "      <td>73.21</td>\n",
       "      <td>100.0</td>\n",
       "      <td>900</td>\n",
       "      <td>Dia da Semana</td>\n",
       "      <td>Segunda-feira</td>\n",
       "      <td>Carga leve</td>\n",
       "    </tr>\n",
       "    <tr>\n",
       "      <th>1</th>\n",
       "      <td>00:30:00</td>\n",
       "      <td>1</td>\n",
       "      <td>1</td>\n",
       "      <td>4.00</td>\n",
       "      <td>4.46</td>\n",
       "      <td>0.0</td>\n",
       "      <td>0.0</td>\n",
       "      <td>66.77</td>\n",
       "      <td>100.0</td>\n",
       "      <td>1800</td>\n",
       "      <td>Dia da Semana</td>\n",
       "      <td>Segunda-feira</td>\n",
       "      <td>Carga leve</td>\n",
       "    </tr>\n",
       "    <tr>\n",
       "      <th>2</th>\n",
       "      <td>00:45:00</td>\n",
       "      <td>1</td>\n",
       "      <td>1</td>\n",
       "      <td>3.24</td>\n",
       "      <td>3.28</td>\n",
       "      <td>0.0</td>\n",
       "      <td>0.0</td>\n",
       "      <td>70.28</td>\n",
       "      <td>100.0</td>\n",
       "      <td>2700</td>\n",
       "      <td>Dia da Semana</td>\n",
       "      <td>Segunda-feira</td>\n",
       "      <td>Carga leve</td>\n",
       "    </tr>\n",
       "    <tr>\n",
       "      <th>3</th>\n",
       "      <td>01:00:00</td>\n",
       "      <td>1</td>\n",
       "      <td>1</td>\n",
       "      <td>3.31</td>\n",
       "      <td>3.56</td>\n",
       "      <td>0.0</td>\n",
       "      <td>0.0</td>\n",
       "      <td>68.09</td>\n",
       "      <td>100.0</td>\n",
       "      <td>3600</td>\n",
       "      <td>Dia da Semana</td>\n",
       "      <td>Segunda-feira</td>\n",
       "      <td>Carga leve</td>\n",
       "    </tr>\n",
       "    <tr>\n",
       "      <th>4</th>\n",
       "      <td>01:15:00</td>\n",
       "      <td>1</td>\n",
       "      <td>1</td>\n",
       "      <td>3.82</td>\n",
       "      <td>4.50</td>\n",
       "      <td>0.0</td>\n",
       "      <td>0.0</td>\n",
       "      <td>64.72</td>\n",
       "      <td>100.0</td>\n",
       "      <td>4500</td>\n",
       "      <td>Dia da Semana</td>\n",
       "      <td>Segunda-feira</td>\n",
       "      <td>Carga leve</td>\n",
       "    </tr>\n",
       "  </tbody>\n",
       "</table>\n",
       "</div>"
      ],
      "text/plain": [
       "    horario  dia  mes  energia  cor_atrasada  cor_principal  med_CO2  \\\n",
       "0  00:15:00    1    1     3.17          2.95            0.0      0.0   \n",
       "1  00:30:00    1    1     4.00          4.46            0.0      0.0   \n",
       "2  00:45:00    1    1     3.24          3.28            0.0      0.0   \n",
       "3  01:00:00    1    1     3.31          3.56            0.0      0.0   \n",
       "4  01:15:00    1    1     3.82          4.50            0.0      0.0   \n",
       "\n",
       "   fat_pot_atrasado  fat_pot_principal  seg_no_dia    est_semanal  \\\n",
       "0             73.21              100.0         900  Dia da Semana   \n",
       "1             66.77              100.0        1800  Dia da Semana   \n",
       "2             70.28              100.0        2700  Dia da Semana   \n",
       "3             68.09              100.0        3600  Dia da Semana   \n",
       "4             64.72              100.0        4500  Dia da Semana   \n",
       "\n",
       "      dia_semana       carga  \n",
       "0  Segunda-feira  Carga leve  \n",
       "1  Segunda-feira  Carga leve  \n",
       "2  Segunda-feira  Carga leve  \n",
       "3  Segunda-feira  Carga leve  \n",
       "4  Segunda-feira  Carga leve  "
      ]
     },
     "execution_count": 5,
     "metadata": {},
     "output_type": "execute_result"
    }
   ],
   "source": [
    "# Importando dataset\n",
    "df_energy = pd.read_csv('..\\Data\\dataset_eda.csv', index_col=0)\n",
    "df_energy.head()"
   ]
  },
  {
   "attachments": {},
   "cell_type": "markdown",
   "metadata": {},
   "source": [
    "## Tratando outliers"
   ]
  },
  {
   "attachments": {},
   "cell_type": "markdown",
   "metadata": {},
   "source": [
    "As outliers que são mais preocupantes são as de carga baixa, vistas na análise exploratória de dados. De acordo com estudo a respeito da relação entre a carga e as correntes, entende-se que quando há muita demanda da corrente a carga tende a ser alta. Entretanto, como visto nos dados há situações onde a corrente atrasada tem um valor muito alto, mas a carga está como baixa. Acredita-se que estes dados da carga são erros de entrada de informação. \n",
    "\n",
    "Nesse modelo, a informação da carga não será utilizada, mas da mesma forma, na busca de não prejudicar o modelo, os dados outliers do consumo de energia serão removidos da base de dados exceto os do mês preditivo (mês de dezembro). "
   ]
  },
  {
   "cell_type": "code",
   "execution_count": 6,
   "metadata": {},
   "outputs": [
    {
     "data": {
      "text/html": [
       "<div>\n",
       "<style scoped>\n",
       "    .dataframe tbody tr th:only-of-type {\n",
       "        vertical-align: middle;\n",
       "    }\n",
       "\n",
       "    .dataframe tbody tr th {\n",
       "        vertical-align: top;\n",
       "    }\n",
       "\n",
       "    .dataframe thead th {\n",
       "        text-align: right;\n",
       "    }\n",
       "</style>\n",
       "<table border=\"1\" class=\"dataframe\">\n",
       "  <thead>\n",
       "    <tr style=\"text-align: right;\">\n",
       "      <th></th>\n",
       "      <th>dia</th>\n",
       "      <th>mes</th>\n",
       "      <th>energia</th>\n",
       "      <th>cor_atrasada</th>\n",
       "      <th>cor_principal</th>\n",
       "      <th>med_CO2</th>\n",
       "      <th>fat_pot_atrasado</th>\n",
       "      <th>fat_pot_principal</th>\n",
       "      <th>seg_no_dia</th>\n",
       "    </tr>\n",
       "  </thead>\n",
       "  <tbody>\n",
       "    <tr>\n",
       "      <th>count</th>\n",
       "      <td>18072.000000</td>\n",
       "      <td>18072.000000</td>\n",
       "      <td>18072.000000</td>\n",
       "      <td>18072.000000</td>\n",
       "      <td>18072.000000</td>\n",
       "      <td>18072.000000</td>\n",
       "      <td>18072.000000</td>\n",
       "      <td>18072.000000</td>\n",
       "      <td>18072.000000</td>\n",
       "    </tr>\n",
       "    <tr>\n",
       "      <th>mean</th>\n",
       "      <td>15.644090</td>\n",
       "      <td>6.517928</td>\n",
       "      <td>8.626207</td>\n",
       "      <td>7.004266</td>\n",
       "      <td>2.944328</td>\n",
       "      <td>0.002554</td>\n",
       "      <td>69.679545</td>\n",
       "      <td>85.409154</td>\n",
       "      <td>28384.661355</td>\n",
       "    </tr>\n",
       "    <tr>\n",
       "      <th>std</th>\n",
       "      <td>8.875802</td>\n",
       "      <td>3.520230</td>\n",
       "      <td>17.906245</td>\n",
       "      <td>11.683405</td>\n",
       "      <td>6.402794</td>\n",
       "      <td>0.008726</td>\n",
       "      <td>18.951731</td>\n",
       "      <td>30.070037</td>\n",
       "      <td>24108.527732</td>\n",
       "    </tr>\n",
       "    <tr>\n",
       "      <th>min</th>\n",
       "      <td>1.000000</td>\n",
       "      <td>1.000000</td>\n",
       "      <td>0.000000</td>\n",
       "      <td>0.000000</td>\n",
       "      <td>0.000000</td>\n",
       "      <td>0.000000</td>\n",
       "      <td>0.000000</td>\n",
       "      <td>0.000000</td>\n",
       "      <td>0.000000</td>\n",
       "    </tr>\n",
       "    <tr>\n",
       "      <th>25%</th>\n",
       "      <td>8.000000</td>\n",
       "      <td>3.000000</td>\n",
       "      <td>2.950000</td>\n",
       "      <td>3.020000</td>\n",
       "      <td>0.000000</td>\n",
       "      <td>0.000000</td>\n",
       "      <td>52.700000</td>\n",
       "      <td>100.000000</td>\n",
       "      <td>10800.000000</td>\n",
       "    </tr>\n",
       "    <tr>\n",
       "      <th>50%</th>\n",
       "      <td>16.000000</td>\n",
       "      <td>7.000000</td>\n",
       "      <td>3.310000</td>\n",
       "      <td>4.460000</td>\n",
       "      <td>0.000000</td>\n",
       "      <td>0.000000</td>\n",
       "      <td>66.270000</td>\n",
       "      <td>100.000000</td>\n",
       "      <td>21600.000000</td>\n",
       "    </tr>\n",
       "    <tr>\n",
       "      <th>75%</th>\n",
       "      <td>23.000000</td>\n",
       "      <td>10.000000</td>\n",
       "      <td>4.030000</td>\n",
       "      <td>5.440000</td>\n",
       "      <td>0.000000</td>\n",
       "      <td>0.000000</td>\n",
       "      <td>82.922500</td>\n",
       "      <td>100.000000</td>\n",
       "      <td>33300.000000</td>\n",
       "    </tr>\n",
       "    <tr>\n",
       "      <th>max</th>\n",
       "      <td>31.000000</td>\n",
       "      <td>12.000000</td>\n",
       "      <td>140.290000</td>\n",
       "      <td>96.910000</td>\n",
       "      <td>27.760000</td>\n",
       "      <td>0.060000</td>\n",
       "      <td>100.000000</td>\n",
       "      <td>100.000000</td>\n",
       "      <td>85500.000000</td>\n",
       "    </tr>\n",
       "  </tbody>\n",
       "</table>\n",
       "</div>"
      ],
      "text/plain": [
       "                dia           mes       energia  cor_atrasada  cor_principal  \\\n",
       "count  18072.000000  18072.000000  18072.000000  18072.000000   18072.000000   \n",
       "mean      15.644090      6.517928      8.626207      7.004266       2.944328   \n",
       "std        8.875802      3.520230     17.906245     11.683405       6.402794   \n",
       "min        1.000000      1.000000      0.000000      0.000000       0.000000   \n",
       "25%        8.000000      3.000000      2.950000      3.020000       0.000000   \n",
       "50%       16.000000      7.000000      3.310000      4.460000       0.000000   \n",
       "75%       23.000000     10.000000      4.030000      5.440000       0.000000   \n",
       "max       31.000000     12.000000    140.290000     96.910000      27.760000   \n",
       "\n",
       "            med_CO2  fat_pot_atrasado  fat_pot_principal    seg_no_dia  \n",
       "count  18072.000000      18072.000000       18072.000000  18072.000000  \n",
       "mean       0.002554         69.679545          85.409154  28384.661355  \n",
       "std        0.008726         18.951731          30.070037  24108.527732  \n",
       "min        0.000000          0.000000           0.000000      0.000000  \n",
       "25%        0.000000         52.700000         100.000000  10800.000000  \n",
       "50%        0.000000         66.270000         100.000000  21600.000000  \n",
       "75%        0.000000         82.922500         100.000000  33300.000000  \n",
       "max        0.060000        100.000000         100.000000  85500.000000  "
      ]
     },
     "execution_count": 6,
     "metadata": {},
     "output_type": "execute_result"
    }
   ],
   "source": [
    "# Filtrar os dados para a carga \"Carga Leve\"\n",
    "df_carga_leve = df_energy[df_energy['carga'] == 'Carga leve']\n",
    "df_carga_leve.describe()"
   ]
  },
  {
   "cell_type": "code",
   "execution_count": 7,
   "metadata": {},
   "outputs": [
    {
     "name": "stdout",
     "output_type": "stream",
     "text": [
      "Quantidade de outliers: 2269\n"
     ]
    }
   ],
   "source": [
    "# Criando váriavel outlier - energia\n",
    "outlier = (4.03) + (1.5 * (4.03 - 2.95))\n",
    "\n",
    "# Contar a quantidade de outliers\n",
    "out_count = np.sum(df_carga_leve['energia'] > outlier)\n",
    "\n",
    "# Exibir a quantidade de outliers\n",
    "print(\"Quantidade de outliers:\", out_count)"
   ]
  },
  {
   "cell_type": "code",
   "execution_count": 8,
   "metadata": {},
   "outputs": [
    {
     "data": {
      "text/html": [
       "<div>\n",
       "<style scoped>\n",
       "    .dataframe tbody tr th:only-of-type {\n",
       "        vertical-align: middle;\n",
       "    }\n",
       "\n",
       "    .dataframe tbody tr th {\n",
       "        vertical-align: top;\n",
       "    }\n",
       "\n",
       "    .dataframe thead th {\n",
       "        text-align: right;\n",
       "    }\n",
       "</style>\n",
       "<table border=\"1\" class=\"dataframe\">\n",
       "  <thead>\n",
       "    <tr style=\"text-align: right;\">\n",
       "      <th></th>\n",
       "      <th>dia</th>\n",
       "      <th>mes</th>\n",
       "      <th>energia</th>\n",
       "      <th>cor_atrasada</th>\n",
       "      <th>cor_principal</th>\n",
       "      <th>med_CO2</th>\n",
       "      <th>fat_pot_atrasado</th>\n",
       "      <th>fat_pot_principal</th>\n",
       "    </tr>\n",
       "  </thead>\n",
       "  <tbody>\n",
       "    <tr>\n",
       "      <th>0</th>\n",
       "      <td>1</td>\n",
       "      <td>1</td>\n",
       "      <td>3.17</td>\n",
       "      <td>2.95</td>\n",
       "      <td>0.0</td>\n",
       "      <td>0.0</td>\n",
       "      <td>73.21</td>\n",
       "      <td>100.0</td>\n",
       "    </tr>\n",
       "    <tr>\n",
       "      <th>1</th>\n",
       "      <td>1</td>\n",
       "      <td>1</td>\n",
       "      <td>4.00</td>\n",
       "      <td>4.46</td>\n",
       "      <td>0.0</td>\n",
       "      <td>0.0</td>\n",
       "      <td>66.77</td>\n",
       "      <td>100.0</td>\n",
       "    </tr>\n",
       "    <tr>\n",
       "      <th>2</th>\n",
       "      <td>1</td>\n",
       "      <td>1</td>\n",
       "      <td>3.24</td>\n",
       "      <td>3.28</td>\n",
       "      <td>0.0</td>\n",
       "      <td>0.0</td>\n",
       "      <td>70.28</td>\n",
       "      <td>100.0</td>\n",
       "    </tr>\n",
       "    <tr>\n",
       "      <th>3</th>\n",
       "      <td>1</td>\n",
       "      <td>1</td>\n",
       "      <td>3.31</td>\n",
       "      <td>3.56</td>\n",
       "      <td>0.0</td>\n",
       "      <td>0.0</td>\n",
       "      <td>68.09</td>\n",
       "      <td>100.0</td>\n",
       "    </tr>\n",
       "    <tr>\n",
       "      <th>4</th>\n",
       "      <td>1</td>\n",
       "      <td>1</td>\n",
       "      <td>3.82</td>\n",
       "      <td>4.50</td>\n",
       "      <td>0.0</td>\n",
       "      <td>0.0</td>\n",
       "      <td>64.72</td>\n",
       "      <td>100.0</td>\n",
       "    </tr>\n",
       "  </tbody>\n",
       "</table>\n",
       "</div>"
      ],
      "text/plain": [
       "   dia  mes  energia  cor_atrasada  cor_principal  med_CO2  fat_pot_atrasado  \\\n",
       "0    1    1     3.17          2.95            0.0      0.0             73.21   \n",
       "1    1    1     4.00          4.46            0.0      0.0             66.77   \n",
       "2    1    1     3.24          3.28            0.0      0.0             70.28   \n",
       "3    1    1     3.31          3.56            0.0      0.0             68.09   \n",
       "4    1    1     3.82          4.50            0.0      0.0             64.72   \n",
       "\n",
       "   fat_pot_principal  \n",
       "0              100.0  \n",
       "1              100.0  \n",
       "2              100.0  \n",
       "3              100.0  \n",
       "4              100.0  "
      ]
     },
     "execution_count": 8,
     "metadata": {},
     "output_type": "execute_result"
    }
   ],
   "source": [
    "# Removendo as linhas de carga leve que são outliers com excessão do mês de dezembro\n",
    "df = df_energy.loc[(df_energy.energia < outlier)| (df_energy.mes == 12)| (df_energy.carga != 'Carga leve')]\n",
    "df = df[['dia',\t'mes', 'energia', 'cor_atrasada', 'cor_principal', 'med_CO2', 'fat_pot_atrasado', 'fat_pot_principal']]\n",
    "df.head()\n"
   ]
  },
  {
   "attachments": {},
   "cell_type": "markdown",
   "metadata": {},
   "source": [
    "## Modelo"
   ]
  },
  {
   "attachments": {},
   "cell_type": "markdown",
   "metadata": {},
   "source": [
    "Sobre o modelo\n",
    "\n",
    "- Agrupamento dos dados: Para este modelo os dados não foram agrupados por hora ou por dia em virtude de algumas features que poderiam ser prejudicadas no decorrer deste. Os fatores de potencia são dados percentuais e realizando este agrupamento poderia prejudicar o valor real deste que em algum momento poderia estar em cem porcento e em outro momento em 50, mas ao soma-los, a relação deste componete com o valor da corrente seria perdida. Outra informação comprometida seria a carga da energia, porem esta informação não prejudicaria tanto pois não é usada na construção do modelo.\n",
    "- Separação das features: para não inviesar o modelo as features como dia da semana, estado semanal, segundos do dia, data e horario e carga foram removidas. Estas não contribui no aprendizado quanto a quantidade de energia usada. As informações que tem causalidade na quantidade de energia usada são as correntes, fator de potência e quantidade de CO2, com isso, essas foram as features escolhidas para o modelo. A principio, iria utilizar a carga também, mas apenas com as 5 features apresentadas já informa o nível da carga utlizada.\n",
    "- Serão usados dois modelos preditivos, knn regression, regressão linear e random forest regression. Esses modelos foram escolhidos pois tratando de predição de valor contínuo, são os modelos que mais se enquadram com o projeto. \n"
   ]
  },
  {
   "attachments": {},
   "cell_type": "markdown",
   "metadata": {},
   "source": [
    "### Separação dos dados de treino e teste"
   ]
  },
  {
   "attachments": {},
   "cell_type": "markdown",
   "metadata": {},
   "source": [
    "A separação dos dados de treino e teste serão realizadas manualmente, pois como os dados são divididos em resgitros a cada 15 minutos, o modelo realizará a predição de todos os registros agrupando os valores da energia consumida, assim realizando a predição mensal. E para obter a predição do mês de dezembro como um todo, utilizando o train_test_split() a divisão dos dados de treino e de teste seria feita de forma aleatória e não é esse o intuito do projeto. Com isso foram selecionados os dados de janeiro até novembro para realizar o treino do modelo e os do mês de dezembro para o teste."
   ]
  },
  {
   "cell_type": "code",
   "execution_count": 9,
   "metadata": {},
   "outputs": [],
   "source": [
    "# Separando os dados de treino e de teste de acordo com o mês\n",
    "train = df.loc[df.mes != 12]\n",
    "test = df.loc[df.mes == 12] # o mês de dezembro será o mês preditivo, por isso está sendo separado para teste"
   ]
  },
  {
   "cell_type": "code",
   "execution_count": 10,
   "metadata": {},
   "outputs": [],
   "source": [
    "# Separando as features e target de treino e teste\n",
    "X_train = train[['cor_atrasada','cor_principal', 'med_CO2',\t'fat_pot_atrasado',\t'fat_pot_principal']]\n",
    "y_train = train['energia']\n",
    "X_test = test[['cor_atrasada','cor_principal', 'med_CO2',\t'fat_pot_atrasado',\t'fat_pot_principal']]\n",
    "y_test = test['energia']"
   ]
  },
  {
   "attachments": {},
   "cell_type": "markdown",
   "metadata": {},
   "source": [
    "### KNN Regression"
   ]
  },
  {
   "attachments": {},
   "cell_type": "markdown",
   "metadata": {},
   "source": [
    "#### Treinando o modelo"
   ]
  },
  {
   "attachments": {},
   "cell_type": "markdown",
   "metadata": {},
   "source": [
    "Será utilizado o Standard Scaler, no qual os dados serão padronizados com média zero e desvio padrão igual a 1. Essa padronização garante que todas as variáveis tenham a mesma escala, o que evita que algumas variáveis dominem outras por simplesmente terem valores maiores. Para o modelo de KNN é importante realizar essa padronização pois é um algoritmo que usa medida de distancia e as diferenças de escala podem afetar negativamente o desempenho do algoritmo."
   ]
  },
  {
   "cell_type": "code",
   "execution_count": 11,
   "metadata": {},
   "outputs": [],
   "source": [
    "# Padronizando os dados das features e transformação dos dados\n",
    "SDS = StandardScaler()\n",
    "X_train_std = SDS.fit_transform(X_train)\n",
    "X_test_std = SDS.transform(X_test)\n"
   ]
  },
  {
   "attachments": {},
   "cell_type": "markdown",
   "metadata": {},
   "source": [
    "Plotando a curva de aprendizado em relação ao Erro médio quadratico e o valor de k vizinhos, para definir o valor de k vizinhos do modelo"
   ]
  },
  {
   "cell_type": "code",
   "execution_count": 122,
   "metadata": {},
   "outputs": [
    {
     "data": {
      "image/png": "[encoded data removed]",
      "text/plain": [
       "<Figure size 640x480 with 1 Axes>"
      ]
     },
     "metadata": {},
     "output_type": "display_data"
    }
   ],
   "source": [
    "# Lista de valores de k a serem testados\n",
    "k_values = range(1, 16)\n",
    "\n",
    "# Listas para armazenar os resultados\n",
    "mse_sc_train = []\n",
    "mse_sc_test = []\n",
    "\n",
    "# Loop para testar diferentes valores de k\n",
    "for k in k_values:\n",
    "    # Modelo KNN Regression\n",
    "    KNN = KNeighborsRegressor(n_neighbors=k)\n",
    "    \n",
    "    # Treinando o modelo\n",
    "    KNN.fit(X_train_std, y_train)\n",
    "    \n",
    "    # Fazendo previsões no conjunto de treinamento e calculando o MSE\n",
    "    y_pred_train = KNN.predict(X_train_std)\n",
    "    mse_train = mean_squared_error(y_train, y_pred_train)\n",
    "    mse_sc_train.append(mse_train)\n",
    "    \n",
    "    # Fazendo previsões no conjunto de teste e calculando o MSE\n",
    "    y_pred_test = KNN.predict(X_test_std)\n",
    "    mse_test = mean_squared_error(y_test, y_pred_test)\n",
    "    mse_sc_test.append(mse_test)\n",
    "\n",
    "# Plotando a curva de aprendizado\n",
    "plt.plot(k_values, mse_sc_train,'o-', label='Treinamento')\n",
    "plt.plot(k_values, mse_sc_test,'o-', label='Teste')\n",
    "plt.title('Curva de Aprendizado')\n",
    "plt.xlabel('Valor de k')\n",
    "plt.ylabel('Erro Quadrático Médio (MSE)')\n",
    "plt.legend()\n",
    "plt.show()"
   ]
  },
  {
   "cell_type": "code",
   "execution_count": 13,
   "metadata": {},
   "outputs": [],
   "source": [
    "# Gerando o primeiro modelo\n",
    "KNN = KNeighborsRegressor(n_neighbors= 8)"
   ]
  },
  {
   "cell_type": "code",
   "execution_count": 14,
   "metadata": {},
   "outputs": [
    {
     "data": {
      "text/html": [
       "<style>#sk-container-id-1 {color: black;background-color: white;}#sk-container-id-1 pre{padding: 0;}#sk-container-id-1 div.sk-toggleable {background-color: white;}#sk-container-id-1 label.sk-toggleable__label {cursor: pointer;display: block;width: 100%;margin-bottom: 0;padding: 0.3em;box-sizing: border-box;text-align: center;}#sk-container-id-1 label.sk-toggleable__label-arrow:before {content: \"▸\";float: left;margin-right: 0.25em;color: #696969;}#sk-container-id-1 label.sk-toggleable__label-arrow:hover:before {color: black;}#sk-container-id-1 div.sk-estimator:hover label.sk-toggleable__label-arrow:before {color: black;}#sk-container-id-1 div.sk-toggleable__content {max-height: 0;max-width: 0;overflow: hidden;text-align: left;background-color: #f0f8ff;}#sk-container-id-1 div.sk-toggleable__content pre {margin: 0.2em;color: black;border-radius: 0.25em;background-color: #f0f8ff;}#sk-container-id-1 input.sk-toggleable__control:checked~div.sk-toggleable__content {max-height: 200px;max-width: 100%;overflow: auto;}#sk-container-id-1 input.sk-toggleable__control:checked~label.sk-toggleable__label-arrow:before {content: \"▾\";}#sk-container-id-1 div.sk-estimator input.sk-toggleable__control:checked~label.sk-toggleable__label {background-color: #d4ebff;}#sk-container-id-1 div.sk-label input.sk-toggleable__control:checked~label.sk-toggleable__label {background-color: #d4ebff;}#sk-container-id-1 input.sk-hidden--visually {border: 0;clip: rect(1px 1px 1px 1px);clip: rect(1px, 1px, 1px, 1px);height: 1px;margin: -1px;overflow: hidden;padding: 0;position: absolute;width: 1px;}#sk-container-id-1 div.sk-estimator {font-family: monospace;background-color: #f0f8ff;border: 1px dotted black;border-radius: 0.25em;box-sizing: border-box;margin-bottom: 0.5em;}#sk-container-id-1 div.sk-estimator:hover {background-color: #d4ebff;}#sk-container-id-1 div.sk-parallel-item::after {content: \"\";width: 100%;border-bottom: 1px solid gray;flex-grow: 1;}#sk-container-id-1 div.sk-label:hover label.sk-toggleable__label {background-color: #d4ebff;}#sk-container-id-1 div.sk-serial::before {content: \"\";position: absolute;border-left: 1px solid gray;box-sizing: border-box;top: 0;bottom: 0;left: 50%;z-index: 0;}#sk-container-id-1 div.sk-serial {display: flex;flex-direction: column;align-items: center;background-color: white;padding-right: 0.2em;padding-left: 0.2em;position: relative;}#sk-container-id-1 div.sk-item {position: relative;z-index: 1;}#sk-container-id-1 div.sk-parallel {display: flex;align-items: stretch;justify-content: center;background-color: white;position: relative;}#sk-container-id-1 div.sk-item::before, #sk-container-id-1 div.sk-parallel-item::before {content: \"\";position: absolute;border-left: 1px solid gray;box-sizing: border-box;top: 0;bottom: 0;left: 50%;z-index: -1;}#sk-container-id-1 div.sk-parallel-item {display: flex;flex-direction: column;z-index: 1;position: relative;background-color: white;}#sk-container-id-1 div.sk-parallel-item:first-child::after {align-self: flex-end;width: 50%;}#sk-container-id-1 div.sk-parallel-item:last-child::after {align-self: flex-start;width: 50%;}#sk-container-id-1 div.sk-parallel-item:only-child::after {width: 0;}#sk-container-id-1 div.sk-dashed-wrapped {border: 1px dashed gray;margin: 0 0.4em 0.5em 0.4em;box-sizing: border-box;padding-bottom: 0.4em;background-color: white;}#sk-container-id-1 div.sk-label label {font-family: monospace;font-weight: bold;display: inline-block;line-height: 1.2em;}#sk-container-id-1 div.sk-label-container {text-align: center;}#sk-container-id-1 div.sk-container {/* jupyter's `normalize.less` sets `[hidden] { display: none; }` but bootstrap.min.css set `[hidden] { display: none !important; }` so we also need the `!important` here to be able to override the default hidden behavior on the sphinx rendered scikit-learn.org. See: https://github.com/scikit-learn/scikit-learn/issues/21755 */display: inline-block !important;position: relative;}#sk-container-id-1 div.sk-text-repr-fallback {display: none;}</style><div id=\"sk-container-id-1\" class=\"sk-top-container\"><div class=\"sk-text-repr-fallback\"><pre>KNeighborsRegressor(n_neighbors=8)</pre><b>In a Jupyter environment, please rerun this cell to show the HTML representation or trust the notebook. <br />On GitHub, the HTML representation is unable to render, please try loading this page with nbviewer.org.</b></div><div class=\"sk-container\" hidden><div class=\"sk-item\"><div class=\"sk-estimator sk-toggleable\"><input class=\"sk-toggleable__control sk-hidden--visually\" id=\"sk-estimator-id-1\" type=\"checkbox\" checked><label for=\"sk-estimator-id-1\" class=\"sk-toggleable__label sk-toggleable__label-arrow\">KNeighborsRegressor</label><div class=\"sk-toggleable__content\"><pre>KNeighborsRegressor(n_neighbors=8)</pre></div></div></div></div></div>"
      ],
      "text/plain": [
       "KNeighborsRegressor(n_neighbors=8)"
      ]
     },
     "execution_count": 14,
     "metadata": {},
     "output_type": "execute_result"
    }
   ],
   "source": [
    "# Treinando o modelo com os dados de treino\n",
    "KNN.fit(X_train_std, y_train)"
   ]
  },
  {
   "cell_type": "code",
   "execution_count": 15,
   "metadata": {},
   "outputs": [],
   "source": [
    "# Realizando a predição do modelo com os dados de teste\n",
    "KNNy_pred_train = KNN.predict(X_train_std)\n",
    "KNNy_pred_test = KNN.predict(X_test_std)"
   ]
  },
  {
   "attachments": {},
   "cell_type": "markdown",
   "metadata": {},
   "source": [
    "#### Avaliação do modelo"
   ]
  },
  {
   "attachments": {},
   "cell_type": "markdown",
   "metadata": {},
   "source": [
    "Para avaliar o modelo serão utilizadas as métricas de avaliação: MSE - Mean Squared Errror, R2 - R-Squared e R2 Ajustado - R-Squared Ajustado. As três métricas irão auxiliar na verificação do modelo, se está com indícios de overfitting, desempenhando mal ou se as features utilizadas atuam bem na construção do modelo."
   ]
  },
  {
   "cell_type": "code",
   "execution_count": 16,
   "metadata": {},
   "outputs": [
    {
     "data": {
      "text/html": [
       "<div>\n",
       "<style scoped>\n",
       "    .dataframe tbody tr th:only-of-type {\n",
       "        vertical-align: middle;\n",
       "    }\n",
       "\n",
       "    .dataframe tbody tr th {\n",
       "        vertical-align: top;\n",
       "    }\n",
       "\n",
       "    .dataframe thead th {\n",
       "        text-align: right;\n",
       "    }\n",
       "</style>\n",
       "<table border=\"1\" class=\"dataframe\">\n",
       "  <thead>\n",
       "    <tr style=\"text-align: right;\">\n",
       "      <th></th>\n",
       "      <th>dia</th>\n",
       "      <th>mes</th>\n",
       "      <th>energia</th>\n",
       "      <th>cor_atrasada</th>\n",
       "      <th>cor_principal</th>\n",
       "      <th>med_CO2</th>\n",
       "      <th>fat_pot_atrasado</th>\n",
       "      <th>fat_pot_principal</th>\n",
       "    </tr>\n",
       "  </thead>\n",
       "  <tbody>\n",
       "    <tr>\n",
       "      <th>count</th>\n",
       "      <td>32881.000000</td>\n",
       "      <td>32881.000000</td>\n",
       "      <td>32881.000000</td>\n",
       "      <td>32881.000000</td>\n",
       "      <td>32881.000000</td>\n",
       "      <td>32881.000000</td>\n",
       "      <td>32881.000000</td>\n",
       "      <td>32881.000000</td>\n",
       "    </tr>\n",
       "    <tr>\n",
       "      <th>mean</th>\n",
       "      <td>15.691311</td>\n",
       "      <td>6.630942</td>\n",
       "      <td>26.245774</td>\n",
       "      <td>11.884489</td>\n",
       "      <td>4.107325</td>\n",
       "      <td>0.010964</td>\n",
       "      <td>80.603651</td>\n",
       "      <td>83.394015</td>\n",
       "    </tr>\n",
       "    <tr>\n",
       "      <th>std</th>\n",
       "      <td>8.751626</td>\n",
       "      <td>3.419568</td>\n",
       "      <td>33.244568</td>\n",
       "      <td>15.340524</td>\n",
       "      <td>7.583959</td>\n",
       "      <td>0.016030</td>\n",
       "      <td>19.433165</td>\n",
       "      <td>31.139089</td>\n",
       "    </tr>\n",
       "    <tr>\n",
       "      <th>min</th>\n",
       "      <td>1.000000</td>\n",
       "      <td>1.000000</td>\n",
       "      <td>0.000000</td>\n",
       "      <td>0.000000</td>\n",
       "      <td>0.000000</td>\n",
       "      <td>0.000000</td>\n",
       "      <td>0.000000</td>\n",
       "      <td>0.000000</td>\n",
       "    </tr>\n",
       "    <tr>\n",
       "      <th>25%</th>\n",
       "      <td>8.000000</td>\n",
       "      <td>4.000000</td>\n",
       "      <td>3.170000</td>\n",
       "      <td>1.580000</td>\n",
       "      <td>0.000000</td>\n",
       "      <td>0.000000</td>\n",
       "      <td>61.850000</td>\n",
       "      <td>99.100000</td>\n",
       "    </tr>\n",
       "    <tr>\n",
       "      <th>50%</th>\n",
       "      <td>16.000000</td>\n",
       "      <td>7.000000</td>\n",
       "      <td>4.180000</td>\n",
       "      <td>4.820000</td>\n",
       "      <td>0.000000</td>\n",
       "      <td>0.000000</td>\n",
       "      <td>88.990000</td>\n",
       "      <td>100.000000</td>\n",
       "    </tr>\n",
       "    <tr>\n",
       "      <th>75%</th>\n",
       "      <td>23.000000</td>\n",
       "      <td>10.000000</td>\n",
       "      <td>50.080000</td>\n",
       "      <td>19.220000</td>\n",
       "      <td>4.030000</td>\n",
       "      <td>0.020000</td>\n",
       "      <td>99.750000</td>\n",
       "      <td>100.000000</td>\n",
       "    </tr>\n",
       "    <tr>\n",
       "      <th>max</th>\n",
       "      <td>31.000000</td>\n",
       "      <td>12.000000</td>\n",
       "      <td>157.180000</td>\n",
       "      <td>87.590000</td>\n",
       "      <td>27.760000</td>\n",
       "      <td>0.070000</td>\n",
       "      <td>100.000000</td>\n",
       "      <td>100.000000</td>\n",
       "    </tr>\n",
       "  </tbody>\n",
       "</table>\n",
       "</div>"
      ],
      "text/plain": [
       "                dia           mes       energia  cor_atrasada  cor_principal  \\\n",
       "count  32881.000000  32881.000000  32881.000000  32881.000000   32881.000000   \n",
       "mean      15.691311      6.630942     26.245774     11.884489       4.107325   \n",
       "std        8.751626      3.419568     33.244568     15.340524       7.583959   \n",
       "min        1.000000      1.000000      0.000000      0.000000       0.000000   \n",
       "25%        8.000000      4.000000      3.170000      1.580000       0.000000   \n",
       "50%       16.000000      7.000000      4.180000      4.820000       0.000000   \n",
       "75%       23.000000     10.000000     50.080000     19.220000       4.030000   \n",
       "max       31.000000     12.000000    157.180000     87.590000      27.760000   \n",
       "\n",
       "            med_CO2  fat_pot_atrasado  fat_pot_principal  \n",
       "count  32881.000000      32881.000000       32881.000000  \n",
       "mean       0.010964         80.603651          83.394015  \n",
       "std        0.016030         19.433165          31.139089  \n",
       "min        0.000000          0.000000           0.000000  \n",
       "25%        0.000000         61.850000          99.100000  \n",
       "50%        0.000000         88.990000         100.000000  \n",
       "75%        0.020000         99.750000         100.000000  \n",
       "max        0.070000        100.000000         100.000000  "
      ]
     },
     "execution_count": 16,
     "metadata": {},
     "output_type": "execute_result"
    }
   ],
   "source": [
    "df.describe()"
   ]
  },
  {
   "cell_type": "code",
   "execution_count": 17,
   "metadata": {},
   "outputs": [
    {
     "name": "stdout",
     "output_type": "stream",
     "text": [
      "Mean Squared Error (MSE) - Treinamento: 1.1828699103410798\n",
      "Mean Squared Error (MSE) - Teste: 1.1022945926789318\n",
      "R² - Treinamento: 0.9989408149679188\n",
      "R² - Teste: 0.998874158723009\n",
      "R² ajustado - Treinamento: 0.9989406378407519\n",
      "R² ajustado - Teste: 0.9988722633673238\n"
     ]
    }
   ],
   "source": [
    "# Calculando o Mean Squared Error\n",
    "mse_train = mean_squared_error(y_train, KNNy_pred_train)\n",
    "mse_test = mean_squared_error(y_test, KNNy_pred_test)\n",
    "\n",
    "# Calculando o R-Squared\n",
    "r2_train = r2_score(y_train, KNNy_pred_train)\n",
    "r2_test = r2_score(y_test, KNNy_pred_test)\n",
    "\n",
    "# Número de observações e número de variáveis preditoras de treino\n",
    "n_train = len(X_train_std)\n",
    "p_train = X_train_std.shape[1]\n",
    "\n",
    "# Número de observações e número de variáveis preditoras de teste\n",
    "n_test = len(X_test_std)\n",
    "p_test = X_test_std.shape[1]\n",
    "\n",
    "# Calculando o R-Squared Ajustado\n",
    "r2_ajustado_train = 1 - (1 - r2_train) * ((n_train - 1) / (n_train - p_train - 1))\n",
    "r2_ajustado_test = 1 - (1 - r2_test) * ((n_test - 1) / (n_test - p_test - 1))"
   ]
  },
  {
   "cell_type": "code",
   "execution_count": null,
   "metadata": {},
   "outputs": [],
   "source": [
    "# Imprimindo as métricas de avaliação\n",
    "print(\"Mean Squared Error (MSE) - Treinamento:\", mse_train)\n",
    "print(\"Mean Squared Error (MSE) - Teste:\", mse_test)\n",
    "\n",
    "print(\"R² - Treinamento:\", r2_train)\n",
    "print(\"R² - Teste:\", r2_test)\n",
    "\n",
    "print(\"R² ajustado - Treinamento:\", r2_ajustado_train)\n",
    "print(\"R² ajustado - Teste:\", r2_ajustado_test)\n"
   ]
  },
  {
   "attachments": {},
   "cell_type": "markdown",
   "metadata": {},
   "source": [
    "Mean Squared Error (MSE): Tanto o MSE de treinamento quanto o de teste são relativamente baixos, o que indica um bom desempenho do modelo em relação ao ajuste dos dados.\n",
    "\n",
    "R² (R-squared): Tanto o R² de treinamento quanto o de teste são próximos de 1, o que indica que uma grande proporção da variabilidade dos dados está sendo explicada pelo modelo. Isso sugere um bom ajuste do modelo aos dados.\n",
    "\n",
    "R² ajustado: O R² ajustado considera o número de variáveis preditoras no modelo, penalizando o uso excessivo de variáveis. Os valores de R² ajustado para treinamento e teste são próximos do R², o que indica que o modelo provavelmente está utilizando um número adequado de variáveis para explicar a variabilidade dos dados."
   ]
  },
  {
   "cell_type": "code",
   "execution_count": 121,
   "metadata": {},
   "outputs": [
    {
     "data": {
      "image/png": "[encoded data removed]",
      "text/plain": [
       "<Figure size 1000x600 with 1 Axes>"
      ]
     },
     "metadata": {},
     "output_type": "display_data"
    }
   ],
   "source": [
    "# Calcular a curva de aprendizado\n",
    "train_sizes, train_scores, test_scores = learning_curve(KNN, X_train_std, y_train, cv=8, scoring='r2', train_sizes=np.linspace(0.1, 1.0, 10))\n",
    "\n",
    "# Calcular as médias e desvios-padrão das pontuações de treinamento e teste\n",
    "train_scores_mean = np.mean(train_scores, axis=1)\n",
    "train_scores_std = np.std(train_scores, axis=1)\n",
    "test_scores_mean = np.mean(test_scores, axis=1)\n",
    "test_scores_std = np.std(test_scores, axis=1)\n",
    "\n",
    "\n",
    "\n",
    "# Plotar a curva de aprendizado\n",
    "plt.figure(figsize=(10, 6))\n",
    "plt.title('Curva de Aprendizado')\n",
    "plt.xlabel('Tamanho do Conjunto de Treinamento')\n",
    "plt.ylabel('Pontuação (R²)')\n",
    "plt.grid(True)\n",
    "plt.fill_between(train_sizes, train_scores_mean - train_scores_std, train_scores_mean + train_scores_std, alpha=0.1)\n",
    "plt.fill_between(train_sizes, test_scores_mean - test_scores_std, test_scores_mean + test_scores_std, alpha=0.1)\n",
    "plt.plot(train_sizes, train_scores_mean,'o-', label='Treinamento')\n",
    "plt.plot(train_sizes, test_scores_mean,'o-', label='Teste')\n",
    "plt.legend(loc='best')\n",
    "plt.show()"
   ]
  },
  {
   "attachments": {},
   "cell_type": "markdown",
   "metadata": {},
   "source": [
    "### Linear Regression"
   ]
  },
  {
   "attachments": {},
   "cell_type": "markdown",
   "metadata": {},
   "source": [
    "Como a regressão linear é sensível à escala das variáveis, pois atribui pesos aos coeficientes das variáveis preditoras, o modelo também utilizará das variáveis padronizadas com Standard Scaler, para que as variáveis com valores maiores não dominem a contribuição para o modelo."
   ]
  },
  {
   "attachments": {},
   "cell_type": "markdown",
   "metadata": {},
   "source": [
    "#### Treinamento do modelo"
   ]
  },
  {
   "cell_type": "code",
   "execution_count": 19,
   "metadata": {},
   "outputs": [],
   "source": [
    "# Gerando o segundo modelo\n",
    "LR = LinearRegression()"
   ]
  },
  {
   "cell_type": "code",
   "execution_count": 20,
   "metadata": {},
   "outputs": [
    {
     "data": {
      "text/html": [
       "<style>#sk-container-id-2 {color: black;background-color: white;}#sk-container-id-2 pre{padding: 0;}#sk-container-id-2 div.sk-toggleable {background-color: white;}#sk-container-id-2 label.sk-toggleable__label {cursor: pointer;display: block;width: 100%;margin-bottom: 0;padding: 0.3em;box-sizing: border-box;text-align: center;}#sk-container-id-2 label.sk-toggleable__label-arrow:before {content: \"▸\";float: left;margin-right: 0.25em;color: #696969;}#sk-container-id-2 label.sk-toggleable__label-arrow:hover:before {color: black;}#sk-container-id-2 div.sk-estimator:hover label.sk-toggleable__label-arrow:before {color: black;}#sk-container-id-2 div.sk-toggleable__content {max-height: 0;max-width: 0;overflow: hidden;text-align: left;background-color: #f0f8ff;}#sk-container-id-2 div.sk-toggleable__content pre {margin: 0.2em;color: black;border-radius: 0.25em;background-color: #f0f8ff;}#sk-container-id-2 input.sk-toggleable__control:checked~div.sk-toggleable__content {max-height: 200px;max-width: 100%;overflow: auto;}#sk-container-id-2 input.sk-toggleable__control:checked~label.sk-toggleable__label-arrow:before {content: \"▾\";}#sk-container-id-2 div.sk-estimator input.sk-toggleable__control:checked~label.sk-toggleable__label {background-color: #d4ebff;}#sk-container-id-2 div.sk-label input.sk-toggleable__control:checked~label.sk-toggleable__label {background-color: #d4ebff;}#sk-container-id-2 input.sk-hidden--visually {border: 0;clip: rect(1px 1px 1px 1px);clip: rect(1px, 1px, 1px, 1px);height: 1px;margin: -1px;overflow: hidden;padding: 0;position: absolute;width: 1px;}#sk-container-id-2 div.sk-estimator {font-family: monospace;background-color: #f0f8ff;border: 1px dotted black;border-radius: 0.25em;box-sizing: border-box;margin-bottom: 0.5em;}#sk-container-id-2 div.sk-estimator:hover {background-color: #d4ebff;}#sk-container-id-2 div.sk-parallel-item::after {content: \"\";width: 100%;border-bottom: 1px solid gray;flex-grow: 1;}#sk-container-id-2 div.sk-label:hover label.sk-toggleable__label {background-color: #d4ebff;}#sk-container-id-2 div.sk-serial::before {content: \"\";position: absolute;border-left: 1px solid gray;box-sizing: border-box;top: 0;bottom: 0;left: 50%;z-index: 0;}#sk-container-id-2 div.sk-serial {display: flex;flex-direction: column;align-items: center;background-color: white;padding-right: 0.2em;padding-left: 0.2em;position: relative;}#sk-container-id-2 div.sk-item {position: relative;z-index: 1;}#sk-container-id-2 div.sk-parallel {display: flex;align-items: stretch;justify-content: center;background-color: white;position: relative;}#sk-container-id-2 div.sk-item::before, #sk-container-id-2 div.sk-parallel-item::before {content: \"\";position: absolute;border-left: 1px solid gray;box-sizing: border-box;top: 0;bottom: 0;left: 50%;z-index: -1;}#sk-container-id-2 div.sk-parallel-item {display: flex;flex-direction: column;z-index: 1;position: relative;background-color: white;}#sk-container-id-2 div.sk-parallel-item:first-child::after {align-self: flex-end;width: 50%;}#sk-container-id-2 div.sk-parallel-item:last-child::after {align-self: flex-start;width: 50%;}#sk-container-id-2 div.sk-parallel-item:only-child::after {width: 0;}#sk-container-id-2 div.sk-dashed-wrapped {border: 1px dashed gray;margin: 0 0.4em 0.5em 0.4em;box-sizing: border-box;padding-bottom: 0.4em;background-color: white;}#sk-container-id-2 div.sk-label label {font-family: monospace;font-weight: bold;display: inline-block;line-height: 1.2em;}#sk-container-id-2 div.sk-label-container {text-align: center;}#sk-container-id-2 div.sk-container {/* jupyter's `normalize.less` sets `[hidden] { display: none; }` but bootstrap.min.css set `[hidden] { display: none !important; }` so we also need the `!important` here to be able to override the default hidden behavior on the sphinx rendered scikit-learn.org. See: https://github.com/scikit-learn/scikit-learn/issues/21755 */display: inline-block !important;position: relative;}#sk-container-id-2 div.sk-text-repr-fallback {display: none;}</style><div id=\"sk-container-id-2\" class=\"sk-top-container\"><div class=\"sk-text-repr-fallback\"><pre>LinearRegression()</pre><b>In a Jupyter environment, please rerun this cell to show the HTML representation or trust the notebook. <br />On GitHub, the HTML representation is unable to render, please try loading this page with nbviewer.org.</b></div><div class=\"sk-container\" hidden><div class=\"sk-item\"><div class=\"sk-estimator sk-toggleable\"><input class=\"sk-toggleable__control sk-hidden--visually\" id=\"sk-estimator-id-2\" type=\"checkbox\" checked><label for=\"sk-estimator-id-2\" class=\"sk-toggleable__label sk-toggleable__label-arrow\">LinearRegression</label><div class=\"sk-toggleable__content\"><pre>LinearRegression()</pre></div></div></div></div></div>"
      ],
      "text/plain": [
       "LinearRegression()"
      ]
     },
     "execution_count": 20,
     "metadata": {},
     "output_type": "execute_result"
    }
   ],
   "source": [
    "# Treinando o modelo com os dados de treino\n",
    "LR.fit(X_train_std, y_train)"
   ]
  },
  {
   "cell_type": "code",
   "execution_count": 37,
   "metadata": {},
   "outputs": [
    {
     "data": {
      "text/plain": [
       "0.9869778141649932"
      ]
     },
     "execution_count": 37,
     "metadata": {},
     "output_type": "execute_result"
    }
   ],
   "source": [
    "# Realizando a predição do modelo com os dados de teste\n",
    "LRy_pred_train = LR.predict(X_train_std)\n",
    "LRy_pred_test = LR.predict(X_test_std)\n",
    "LR.score(X_test_std, y_test)"
   ]
  },
  {
   "attachments": {},
   "cell_type": "markdown",
   "metadata": {},
   "source": [
    "#### Avaliação do modelo"
   ]
  },
  {
   "cell_type": "code",
   "execution_count": 23,
   "metadata": {},
   "outputs": [
    {
     "name": "stdout",
     "output_type": "stream",
     "text": [
      "Mean Squared Error (MSE) - Treinamento: 21.635383725067417\n",
      "Mean Squared Error (MSE) - Teste: 12.749830126279267\n",
      "R² - Treinamento: 0.980626885167517\n",
      "R² - Teste: 0.9869778141649932\n",
      "R² ajustado - Treinamento: 0.980623645407854\n",
      "R² ajustado - Teste: 0.986955891293217\n"
     ]
    }
   ],
   "source": [
    "# Calculando o Mean Squared Error\n",
    "mse_train = mean_squared_error(y_train, LRy_pred_train)\n",
    "mse_test = mean_squared_error(y_test, LRy_pred_test)\n",
    "\n",
    "# Calculando o R-Squared\n",
    "r2_train = r2_score(y_train, LRy_pred_train)\n",
    "r2_test = r2_score(y_test, LRy_pred_test)\n",
    "\n",
    "# Número de observações e número de variáveis preditoras de treino\n",
    "n_train = len(X_train_std)\n",
    "p_train = X_train_std.shape[1]\n",
    "\n",
    "# Número de observações e número de variáveis preditoras de teste\n",
    "n_test = len(X_test_std)\n",
    "p_test = X_test_std.shape[1]\n",
    "\n",
    "# Calculando o R-Squared Ajustado\n",
    "r2_ajustado_train = 1 - (1 - r2_train) * ((n_train - 1) / (n_train - p_train - 1))\n",
    "r2_ajustado_test = 1 - (1 - r2_test) * ((n_test - 1) / (n_test - p_test - 1))\n",
    "\n",
    "# Imprimindo as métricas de avaliação\n",
    "print(\"Mean Squared Error (MSE) - Treinamento:\", mse_train)\n",
    "print(\"Mean Squared Error (MSE) - Teste:\", mse_test)\n",
    "\n",
    "print(\"R² - Treinamento:\", r2_train)\n",
    "print(\"R² - Teste:\", r2_test)\n",
    "\n",
    "print(\"R² ajustado - Treinamento:\", r2_ajustado_train)\n",
    "print(\"R² ajustado - Teste:\", r2_ajustado_test)"
   ]
  },
  {
   "attachments": {},
   "cell_type": "markdown",
   "metadata": {},
   "source": [
    "Mean Squared Error (MSE): O MSE de teste foi menor que o de treino, o que significa que o erro médio ao quadrado está sendo menor nos dados de teste.\n",
    "Agora, quanto ao R² e o R² ajustado estão com boas métricas, o modelo está explicando uma grande proporção da variabilidade dos dados e a quantidade de features está adequada para isto."
   ]
  },
  {
   "attachments": {},
   "cell_type": "markdown",
   "metadata": {},
   "source": [
    "#### Regularização do modelo"
   ]
  },
  {
   "attachments": {},
   "cell_type": "markdown",
   "metadata": {},
   "source": [
    "Regularização Ridge - Será usada para evitar overfitting devido a multicolinearidade dos dados."
   ]
  },
  {
   "cell_type": "code",
   "execution_count": 38,
   "metadata": {},
   "outputs": [
    {
     "data": {
      "text/plain": [
       "0.9869759173827237"
      ]
     },
     "execution_count": 38,
     "metadata": {},
     "output_type": "execute_result"
    }
   ],
   "source": [
    "# Verificando regularização rigde\n",
    "ridge = Ridge(alpha = 0.5)\n",
    "ridge.fit(X_train_std, y_train)\n",
    "ridge.score(X_test_std, y_test)"
   ]
  },
  {
   "attachments": {},
   "cell_type": "markdown",
   "metadata": {},
   "source": [
    "Como não alterou muito o R², será mantido o modelo sem regularização."
   ]
  },
  {
   "attachments": {},
   "cell_type": "markdown",
   "metadata": {},
   "source": [
    "### Random Forest Regression"
   ]
  },
  {
   "attachments": {},
   "cell_type": "markdown",
   "metadata": {},
   "source": [
    "Este modelo, por mais de ser custoso de acordo com a quantidade de florestas aleatórias a serem utilizadas, ele é um modelo que ajuda a mitigar o overfitting. Cada árvore é treinada em uma amostra aleatória do conjunto de dados e realiza previsões independentes. Após isso, as previsões são combinadas por meio de média para fornecer uma estimativa mais precisa."
   ]
  },
  {
   "attachments": {},
   "cell_type": "markdown",
   "metadata": {},
   "source": [
    "#### Treinamento do modelo"
   ]
  },
  {
   "attachments": {},
   "cell_type": "markdown",
   "metadata": {},
   "source": [
    "Primeiramente, foi criado um código para verificar o valor do R² de acordo com a quantidade de estimadores, para ajustar a quantidade necessária no modelo."
   ]
  },
  {
   "cell_type": "code",
   "execution_count": 51,
   "metadata": {},
   "outputs": [],
   "source": [
    "# Lista de valores de k a serem testados\n",
    "n_estimators = [x for x in range(50, 250, 50)]"
   ]
  },
  {
   "cell_type": "code",
   "execution_count": null,
   "metadata": {},
   "outputs": [],
   "source": [
    "# Lista para armazenar os scores médios de validação cruzada\n",
    "scores = []"
   ]
  },
  {
   "cell_type": "code",
   "execution_count": 67,
   "metadata": {},
   "outputs": [],
   "source": [
    "for n_estimators in n_estimators:\n",
    "    # Criando o modelo de Random Forest Regression com o número de estimadores atual\n",
    "    RFR = RandomForestRegressor(n_estimators=n_estimators)\n",
    "    \n",
    "    # Realizando a validação cruzada com 5 folds\n",
    "    cv_scores = cross_val_score(RFR, X_train, y_train, cv=5, scoring='r2')\n",
    "    \n",
    "    # Calculando a média dos scores de validação cruzada\n",
    "    mean_score = cv_scores.mean()\n",
    "    \n",
    "    # Adicionando o score médio à lista de scores\n",
    "    scores.append(mean_score)"
   ]
  },
  {
   "cell_type": "code",
   "execution_count": 53,
   "metadata": {},
   "outputs": [
    {
     "name": "stdout",
     "output_type": "stream",
     "text": [
      "Estimadores: 50 - R² médio: 0.9929156440075915\n",
      "Estimadores: 100 - R² médio: 0.992933458105983\n",
      "Estimadores: 150 - R² médio: 0.9929162679639028\n",
      "Estimadores: 200 - R² médio: 0.9929348213681213\n",
      "Estimadores: 250 - R² médio: 0.9928936212334433\n"
     ]
    }
   ],
   "source": [
    "# Imprimir os scores para cada valor de estimadores\n",
    "for idx, score in enumerate(scores):\n",
    "    print(f\"Estimadores: {n_estimators[idx]} - R² médio: {score}\")"
   ]
  },
  {
   "attachments": {},
   "cell_type": "markdown",
   "metadata": {},
   "source": [
    "Plotando a curva de aprendizado de acordo com o Score médio para definir a quantidade de estimadores da floresta aleatória."
   ]
  },
  {
   "cell_type": "code",
   "execution_count": 54,
   "metadata": {},
   "outputs": [
    {
     "data": {
      "image/png": "[encoded data removed]",
      "text/plain": [
       "<Figure size 640x480 with 1 Axes>"
      ]
     },
     "metadata": {},
     "output_type": "display_data"
    }
   ],
   "source": [
    "# Listas para armazenar os scores médios de treinamento e teste\n",
    "train_scores_mean = []\n",
    "test_scores_mean = []\n",
    "\n",
    "# Criar a curva de aprendizado para cada valor de estimadores\n",
    "for est in n_estimators:\n",
    "    RFR = RandomForestRegressor(n_estimators=est)\n",
    "    train_sizes, train_scores, test_scores = learning_curve(RFR, X_train, y_train, cv=5, train_sizes=np.linspace(0.1, 1.0, 10))\n",
    "    \n",
    "    # Calcular as médias dos scores de treinamento e teste\n",
    "    train_scores_mean.append(np.mean(train_scores))\n",
    "    test_scores_mean.append(np.mean(test_scores))\n",
    "\n",
    "# Plotar a curva de aprendizado\n",
    "plt.plot(n_estimators, train_scores_mean, 'o-', label='Treinamento')\n",
    "plt.plot(n_estimators, test_scores_mean, 'o-', label='Teste')\n",
    "plt.xlabel('Número de Estimadores')\n",
    "plt.ylabel('Score Médio')\n",
    "plt.title('Curva de Aprendizado')\n",
    "plt.legend(loc='best')\n",
    "plt.grid(True)\n",
    "plt.show()"
   ]
  },
  {
   "attachments": {},
   "cell_type": "markdown",
   "metadata": {},
   "source": [
    "Nota-se que independentemente dos estimadores o desempenho do modelo se mantem, com isso será defenido uma quantidade de estimadores pequena visto o custo computacional para o modelo."
   ]
  },
  {
   "cell_type": "code",
   "execution_count": 61,
   "metadata": {},
   "outputs": [],
   "source": [
    "# Gerando o terceiro modelo\n",
    "RFR = RandomForestRegressor(n_estimators=50, random_state=42)"
   ]
  },
  {
   "cell_type": "code",
   "execution_count": 62,
   "metadata": {},
   "outputs": [
    {
     "data": {
      "text/html": [
       "<style>#sk-container-id-4 {color: black;background-color: white;}#sk-container-id-4 pre{padding: 0;}#sk-container-id-4 div.sk-toggleable {background-color: white;}#sk-container-id-4 label.sk-toggleable__label {cursor: pointer;display: block;width: 100%;margin-bottom: 0;padding: 0.3em;box-sizing: border-box;text-align: center;}#sk-container-id-4 label.sk-toggleable__label-arrow:before {content: \"▸\";float: left;margin-right: 0.25em;color: #696969;}#sk-container-id-4 label.sk-toggleable__label-arrow:hover:before {color: black;}#sk-container-id-4 div.sk-estimator:hover label.sk-toggleable__label-arrow:before {color: black;}#sk-container-id-4 div.sk-toggleable__content {max-height: 0;max-width: 0;overflow: hidden;text-align: left;background-color: #f0f8ff;}#sk-container-id-4 div.sk-toggleable__content pre {margin: 0.2em;color: black;border-radius: 0.25em;background-color: #f0f8ff;}#sk-container-id-4 input.sk-toggleable__control:checked~div.sk-toggleable__content {max-height: 200px;max-width: 100%;overflow: auto;}#sk-container-id-4 input.sk-toggleable__control:checked~label.sk-toggleable__label-arrow:before {content: \"▾\";}#sk-container-id-4 div.sk-estimator input.sk-toggleable__control:checked~label.sk-toggleable__label {background-color: #d4ebff;}#sk-container-id-4 div.sk-label input.sk-toggleable__control:checked~label.sk-toggleable__label {background-color: #d4ebff;}#sk-container-id-4 input.sk-hidden--visually {border: 0;clip: rect(1px 1px 1px 1px);clip: rect(1px, 1px, 1px, 1px);height: 1px;margin: -1px;overflow: hidden;padding: 0;position: absolute;width: 1px;}#sk-container-id-4 div.sk-estimator {font-family: monospace;background-color: #f0f8ff;border: 1px dotted black;border-radius: 0.25em;box-sizing: border-box;margin-bottom: 0.5em;}#sk-container-id-4 div.sk-estimator:hover {background-color: #d4ebff;}#sk-container-id-4 div.sk-parallel-item::after {content: \"\";width: 100%;border-bottom: 1px solid gray;flex-grow: 1;}#sk-container-id-4 div.sk-label:hover label.sk-toggleable__label {background-color: #d4ebff;}#sk-container-id-4 div.sk-serial::before {content: \"\";position: absolute;border-left: 1px solid gray;box-sizing: border-box;top: 0;bottom: 0;left: 50%;z-index: 0;}#sk-container-id-4 div.sk-serial {display: flex;flex-direction: column;align-items: center;background-color: white;padding-right: 0.2em;padding-left: 0.2em;position: relative;}#sk-container-id-4 div.sk-item {position: relative;z-index: 1;}#sk-container-id-4 div.sk-parallel {display: flex;align-items: stretch;justify-content: center;background-color: white;position: relative;}#sk-container-id-4 div.sk-item::before, #sk-container-id-4 div.sk-parallel-item::before {content: \"\";position: absolute;border-left: 1px solid gray;box-sizing: border-box;top: 0;bottom: 0;left: 50%;z-index: -1;}#sk-container-id-4 div.sk-parallel-item {display: flex;flex-direction: column;z-index: 1;position: relative;background-color: white;}#sk-container-id-4 div.sk-parallel-item:first-child::after {align-self: flex-end;width: 50%;}#sk-container-id-4 div.sk-parallel-item:last-child::after {align-self: flex-start;width: 50%;}#sk-container-id-4 div.sk-parallel-item:only-child::after {width: 0;}#sk-container-id-4 div.sk-dashed-wrapped {border: 1px dashed gray;margin: 0 0.4em 0.5em 0.4em;box-sizing: border-box;padding-bottom: 0.4em;background-color: white;}#sk-container-id-4 div.sk-label label {font-family: monospace;font-weight: bold;display: inline-block;line-height: 1.2em;}#sk-container-id-4 div.sk-label-container {text-align: center;}#sk-container-id-4 div.sk-container {/* jupyter's `normalize.less` sets `[hidden] { display: none; }` but bootstrap.min.css set `[hidden] { display: none !important; }` so we also need the `!important` here to be able to override the default hidden behavior on the sphinx rendered scikit-learn.org. See: https://github.com/scikit-learn/scikit-learn/issues/21755 */display: inline-block !important;position: relative;}#sk-container-id-4 div.sk-text-repr-fallback {display: none;}</style><div id=\"sk-container-id-4\" class=\"sk-top-container\"><div class=\"sk-text-repr-fallback\"><pre>RandomForestRegressor(n_estimators=50, random_state=42)</pre><b>In a Jupyter environment, please rerun this cell to show the HTML representation or trust the notebook. <br />On GitHub, the HTML representation is unable to render, please try loading this page with nbviewer.org.</b></div><div class=\"sk-container\" hidden><div class=\"sk-item\"><div class=\"sk-estimator sk-toggleable\"><input class=\"sk-toggleable__control sk-hidden--visually\" id=\"sk-estimator-id-4\" type=\"checkbox\" checked><label for=\"sk-estimator-id-4\" class=\"sk-toggleable__label sk-toggleable__label-arrow\">RandomForestRegressor</label><div class=\"sk-toggleable__content\"><pre>RandomForestRegressor(n_estimators=50, random_state=42)</pre></div></div></div></div></div>"
      ],
      "text/plain": [
       "RandomForestRegressor(n_estimators=50, random_state=42)"
      ]
     },
     "execution_count": 62,
     "metadata": {},
     "output_type": "execute_result"
    }
   ],
   "source": [
    "# Treinando o modelo\n",
    "RFR.fit(X_train, y_train)"
   ]
  },
  {
   "cell_type": "code",
   "execution_count": 63,
   "metadata": {},
   "outputs": [],
   "source": [
    "# Fazendo as predições no conjunto de teste e treino\n",
    "RFRy_pred_test = RFR.predict(X_test)\n",
    "RFRy_pred_train = RFR.predict(X_train)"
   ]
  },
  {
   "attachments": {},
   "cell_type": "markdown",
   "metadata": {},
   "source": [
    "#### Avaliação do modelo"
   ]
  },
  {
   "cell_type": "code",
   "execution_count": 64,
   "metadata": {},
   "outputs": [],
   "source": [
    "# Calculando o Mean Squared Error\n",
    "mse_train = mean_squared_error(y_train, RFRy_pred_train)\n",
    "mse_test = mean_squared_error(y_test, RFRy_pred_test)\n",
    "\n",
    "# Calculando o R-Squared\n",
    "r2_train = r2_score(y_train, RFRy_pred_train)\n",
    "r2_test = r2_score(y_test, RFRy_pred_test)\n",
    "\n",
    "# Número de observações e número de variáveis preditoras de treino\n",
    "n_train = len(X_train)\n",
    "p_train = X_train.shape[1]\n",
    "\n",
    "# Número de observações e número de variáveis preditoras de teste\n",
    "n_test = len(X_test)\n",
    "p_test = X_test.shape[1]\n",
    "\n",
    "# Calculando o R-Squared Ajustado\n",
    "r2_ajustado_train = 1 - (1 - r2_train) * ((n_train - 1) / (n_train - p_train - 1))\n",
    "r2_ajustado_test = 1 - (1 - r2_test) * ((n_test - 1) / (n_test - p_test - 1))"
   ]
  },
  {
   "cell_type": "code",
   "execution_count": 65,
   "metadata": {},
   "outputs": [
    {
     "name": "stdout",
     "output_type": "stream",
     "text": [
      "Mean Squared Error (MSE) - Treinamento: 0.1079634025595289\n",
      "Mean Squared Error (MSE) - Teste: 0.6131030342142538\n",
      "R² - Treinamento: 0.9999033256159414\n",
      "R² - Teste: 0.9993738001551026\n",
      "R² ajustado - Treinamento: 0.9999033094491158\n",
      "R² ajustado - Teste: 0.9993727459466095\n"
     ]
    }
   ],
   "source": [
    "# Imprimindo as métricas de avaliação\n",
    "print(\"Mean Squared Error (MSE) - Treinamento:\", mse_train)\n",
    "print(\"Mean Squared Error (MSE) - Teste:\", mse_test)\n",
    "\n",
    "print(\"R² - Treinamento:\", r2_train)\n",
    "print(\"R² - Teste:\", r2_test)\n",
    "\n",
    "print(\"R² ajustado - Treinamento:\", r2_ajustado_train)\n",
    "print(\"R² ajustado - Teste:\", r2_ajustado_test)\n"
   ]
  },
  {
   "attachments": {},
   "cell_type": "markdown",
   "metadata": {},
   "source": [
    "De acordo com as métricas avaliadas o modelo possui um erro médio quadrático muito baixo, tanto nos dados de treino, quanto nos de teste e ainda possui um bom R² ajustado. "
   ]
  },
  {
   "cell_type": "code",
   "execution_count": 66,
   "metadata": {},
   "outputs": [
    {
     "data": {
      "image/png": "[encoded data removed]",
      "text/plain": [
       "<Figure size 1000x600 with 1 Axes>"
      ]
     },
     "metadata": {},
     "output_type": "display_data"
    }
   ],
   "source": [
    "# Calcular a curva de aprendizado\n",
    "train_sizes, train_scores, test_scores = learning_curve(RFR, X_train, y_train, cv=5, scoring='r2', train_sizes=np.linspace(0.1, 1.0, 10))\n",
    "\n",
    "# Calcular as médias e desvios-padrão das pontuações de treinamento e teste\n",
    "train_scores_mean = np.mean(train_scores, axis=1)\n",
    "train_scores_std = np.std(train_scores, axis=1)\n",
    "test_scores_mean = np.mean(test_scores, axis=1)\n",
    "test_scores_std = np.std(test_scores, axis=1)\n",
    "\n",
    "# Plotar a curva de aprendizado\n",
    "plt.figure(figsize=(10, 6))\n",
    "plt.title('Curva de Aprendizado')\n",
    "plt.xlabel('Tamanho do Conjunto de Treinamento')\n",
    "plt.ylabel('Pontuação (R²)')\n",
    "plt.grid(True)\n",
    "plt.fill_between(train_sizes, train_scores_mean - train_scores_std, train_scores_mean + train_scores_std, alpha=0.1)\n",
    "plt.fill_between(train_sizes, test_scores_mean - test_scores_std, test_scores_mean + test_scores_std, alpha=0.1)\n",
    "plt.plot(train_sizes, train_scores_mean, 'o-', label='Treinamento')\n",
    "plt.plot(train_sizes, test_scores_mean, 'o-', label='Teste')\n",
    "plt.legend(loc='best')\n",
    "plt.show()"
   ]
  },
  {
   "attachments": {},
   "cell_type": "markdown",
   "metadata": {},
   "source": [
    "## Predição do consumo mensal"
   ]
  },
  {
   "attachments": {},
   "cell_type": "markdown",
   "metadata": {},
   "source": [
    "### Função para calcular o consumo mensal de energia"
   ]
  },
  {
   "cell_type": "code",
   "execution_count": 119,
   "metadata": {},
   "outputs": [],
   "source": [
    "# Criando função que calcula a predição mensal de consumo de energia\n",
    "\n",
    "def Modelo_Consumo_Mensal(dataframe, modelo = 'KNN' 'LR' 'RFR'):\n",
    "    \n",
    "    X_test = dataframe[['cor_atrasada','cor_principal', 'med_CO2', 'fat_pot_atrasado', 'fat_pot_principal']]\n",
    "    SDS = StandardScaler()\n",
    "    X_train_std = SDS.fit_transform(X_train)\n",
    "    X_test_std = SDS.transform(X_test)\n",
    "    \n",
    "    if modelo == 'KNN':\n",
    "        KNN.fit(X_train_std, y_train)\n",
    "        y_pred = KNN.predict(X_test_std)\n",
    "\n",
    "    elif modelo == 'LR':\n",
    "        LR.fit(X_train_std, y_train)\n",
    "        y_pred = LR.predict(X_test_std)\n",
    "\n",
    "    elif modelo == 'RFR':\n",
    "        RFR.fit(X_train, y_train)\n",
    "        y_pred = RFR.predict(X_test)\n",
    "\n",
    "    return f'Consumo mensal - {y_pred.sum():.2f}'"
   ]
  },
  {
   "attachments": {},
   "cell_type": "markdown",
   "metadata": {},
   "source": [
    "E para finalizar, a seguir está impresso os resultados de todos os modelos"
   ]
  },
  {
   "cell_type": "code",
   "execution_count": 120,
   "metadata": {},
   "outputs": [
    {
     "name": "stdout",
     "output_type": "stream",
     "text": [
      "O consumo mensal real do mês de Dezembro é de 69379.17\n",
      "Linear Regression : Consumo mensal - 71553.65\n",
      "KNN Regression : Consumo mensal - 69335.99\n",
      "Random Forest Regression : Consumo mensal - 69459.29\n"
     ]
    }
   ],
   "source": [
    "# Imprimindo os valores previstos e valor real do mês de Dezembro\n",
    "print(f'O consumo mensal real do mês de Dezembro é de {y_test.sum():.2f}')\n",
    "print('Linear Regression :', Modelo_Consumo_Mensal(test, 'LR'))\n",
    "print('KNN Regression :', Modelo_Consumo_Mensal(test, 'KNN'))\n",
    "print('Random Forest Regression :', Modelo_Consumo_Mensal(test, 'RFR'))\n"
   ]
  },
  {
   "attachments": {},
   "cell_type": "markdown",
   "metadata": {},
   "source": [
    "Os modeloso modelo apresentaram um desempenho satisfatório na previsão do consumo de energia elétrica. Ambos os modelos foram capazes de capturar as relações entre as features de entrada e a target, resultando em baixos erros de previsão e bons coeficientes de determinação (R²) tanto nos conjuntos de treinamento quanto nos conjuntos de teste. Cada modelo possui suas características e limitações específicas. Dessa forma, a escolha do modelo final dependerá da necessidade da empresa."
   ]
  }
 ],
 "metadata": {
  "kernelspec": {
   "display_name": "Python 3",
   "language": "python",
   "name": "python3"
  },
  "language_info": {
   "codemirror_mode": {
    "name": "ipython",
    "version": 3
   },
   "file_extension": ".py",
   "mimetype": "text/x-python",
   "name": "python",
   "nbconvert_exporter": "python",
   "pygments_lexer": "ipython3",
   "version": "3.10.11"
  },
  "orig_nbformat": 4
 },
 "nbformat": 4,
 "nbformat_minor": 2
}
